{
 "cells": [
  {
   "cell_type": "markdown",
   "metadata": {},
   "source": [
    "# MLE for GPP and ER models in Nakano et al., 2022\n",
    "\n",
    "(c) 2021 OKADA Teruhisa\n",
    "\n",
    "- Estimate model parameters by MLE with AIC\n",
    "- Variance is assumed unknown\n",
    "- Observation  $ y_i \\sim N(x_i, \\sigma^2) $\n",
    "- Model  $ x_i = f_i(\\theta) = f_{Ti}(E) \\cdot f_{PARi}(a, b, c) $"
   ]
  },
  {
   "cell_type": "code",
   "execution_count": 2,
   "metadata": {},
   "outputs": [
    {
     "name": "stdout",
     "output_type": "stream",
     "text": [
      "Python 3.7.7\n",
      "numpy 1.20.2\n",
      "scipy 1.6.2\n",
      "pandas 1.2.4\n",
      "matplotlib 3.3.4\n"
     ]
    }
   ],
   "source": [
    "!python --version\n",
    "\n",
    "import numpy as np\n",
    "import scipy\n",
    "import pandas as pd\n",
    "import matplotlib\n",
    "import matplotlib.pyplot as plt\n",
    "\n",
    "print('numpy', np.__version__)\n",
    "print('scipy', scipy.__version__)\n",
    "print('pandas', pd.__version__)\n",
    "print('matplotlib', matplotlib.__version__)"
   ]
  },
  {
   "cell_type": "markdown",
   "metadata": {},
   "source": [
    "# Observation\n",
    "\n",
    "- Daily GPP, ER, mean water temperature, and total PAR in data.csv\n",
    "\n",
    "```csv\n",
    "Date, GPP, ER, meanWT, totalPAR\n",
    "2016/2/19, 1.76, -3.16, 4.27, 30.6\n",
    ":\n",
    "```"
   ]
  },
  {
   "cell_type": "code",
   "execution_count": 5,
   "metadata": {},
   "outputs": [
    {
     "name": "stdout",
     "output_type": "stream",
     "text": [
      "Degree of freedom observation is 49\n",
      "Initial observation error standard deviation set by GPP data: 8.327774945579263\n"
     ]
    }
   ],
   "source": [
    "f = 'data.csv'\n",
    "\n",
    "df = pd.read_csv(f, parse_dates=[0], index_col=0).sort_values('GPP')\n",
    "df.ER *= -1\n",
    "\n",
    "Nfree = df.shape[0]\n",
    "print('Degree of freedom observation is', Nfree)\n",
    "\n",
    "sigma_obs = df.GPP.std(ddof=1)\n",
    "print(r'Initial observation error standard deviation set by GPP data:', sigma_obs)"
   ]
  },
  {
   "cell_type": "markdown",
   "metadata": {},
   "source": [
    "# Model\n",
    "\n",
    "$ R = f(T,I|R_{20}, E,a,b,c) = R_{20} \\cdot \\exp \\left( \\frac{E(T-T_{20})}{kTT_{20}} \\right) \\cdot (a I^2 + b I + c) $\n",
    "- GPP: c=0\n",
    "- ER: c=1"
   ]
  },
  {
   "cell_type": "code",
   "execution_count": 26,
   "metadata": {},
   "outputs": [
    {
     "data": {
      "text/plain": [
       "Text(0.5, 1.0, 'First guess')"
      ]
     },
     "execution_count": 26,
     "metadata": {},
     "output_type": "execute_result"
    },
    {
     "data": {
      "image/png": "[encoded data removed]",
      "text/plain": [
       "<Figure size 432x288 with 1 Axes>"
      ]
     },
     "metadata": {
      "needs_background": "light"
     },
     "output_type": "display_data"
    }
   ],
   "source": [
    "from scipy import optimize\n",
    "\n",
    "class Model():\n",
    "    \"\"\"\n",
    "    Base model\n",
    "    \"\"\"\n",
    "    def __init__(self, data, T, I):\n",
    "        self.data = data\n",
    "        self.T = T\n",
    "        self.I = I\n",
    "        self.fi = None\n",
    "\n",
    "    def ftemp(self, E):\n",
    "        k = 8.62e-5\n",
    "        T = self.T + 273. \n",
    "        T20 = 20. + 273.\n",
    "        return np.exp(E * (T - T20) / (k * T * T20))\n",
    "    \n",
    "    def fi1(self, b, c):\n",
    "        return b * self.I + c\n",
    "        \n",
    "    def fi2(self, a, b, c):\n",
    "        return a * self.I ** 2 + b * self.I + c\n",
    "\n",
    "    def estimate(self, xcoef):\n",
    "        E, *param = xcoef\n",
    "        return self.ftemp(E) * self.fi(*param)\n",
    "\n",
    "class F1(Model):\n",
    "    \"\"\"\n",
    "    Linear function with R20\n",
    "    \"\"\"\n",
    "    def __init__(self, *args, c=0):\n",
    "        Model.__init__(self, *args)\n",
    "        self.fi = self.fi1\n",
    "        self.pname = 'R20 E b'.split()\n",
    "        self.c = c\n",
    "\n",
    "    def estimate(self, xcoef):\n",
    "        R20, E, b = xcoef\n",
    "        return R20 * self.ftemp(E) * self.fi(b, self.c)\n",
    "\n",
    "class F2(Model):\n",
    "    \"\"\"\n",
    "    Quadratic function with R20\n",
    "    \"\"\"\n",
    "    def __init__(self, *args, c=0):\n",
    "        Model.__init__(self, *args)\n",
    "        self.fi = self.fi2\n",
    "        self.pname = 'R20 E a b'.split()\n",
    "        self.c = c\n",
    "\n",
    "    def estimate(self, xcoef):\n",
    "        R20, E, a, b = xcoef\n",
    "        return R20 * self.ftemp(E) * self.fi(a, b, self.c)\n",
    "    \n",
    "# set model\n",
    "GPP1 = F1(df['GPP'], df['meanWT'], df['totalPAR'], c=0)\n",
    "GPP2 = F2(df['GPP'], df['meanWT'], df['totalPAR'], c=0)\n",
    "ER2  = F2(df['ER'],  df['meanWT'], df['totalPAR'], c=1)\n",
    "    \n",
    "# test (first guess)\n",
    "x0 = [1., 0.4,         0.7]\n",
    "est = GPP1.estimate(x0)\n",
    "ax = df.assign(GPPest=est).plot.scatter(x='GPP', y='GPPest')\n",
    "\n",
    "x0 = [1., 0.4, -0.002, 0.7]\n",
    "GPPest0 = GPP2.estimate(x0)\n",
    "ERest0 = ER2.estimate(x0)\n",
    "df.assign(GPPest=GPPest0).plot.scatter(x='GPP', y='GPPest', ax=ax, c='C1')\n",
    "\n",
    "ax.legend(['Linear model', 'Quadratic model'])\n",
    "ax.plot([0,30],[0,30], lw=0.5, c='k')\n",
    "ax.set_title('First guess')"
   ]
  },
  {
   "cell_type": "markdown",
   "metadata": {},
   "source": [
    "# MLE (Maximum Likelihood Estimation)\n",
    "\n",
    "- Log likelihood: $ \\log L(\\theta, \\sigma^2) = −\\frac{n}{2} \\log(2 \\pi) −\\frac{n}{2} \\log(\\sigma^2) − \\frac{1}{2 \\sigma^2} \\sum^n_{i=1} (f_i(\\theta) − y_i)^2 $\n",
    "\n",
    "- Standard Error (SE) calculated by Fisher information\n",
    "\n",
    "- Model selection: $ \\mathrm {AIC} =-2\\log L+2k $"
   ]
  },
  {
   "cell_type": "code",
   "execution_count": 15,
   "metadata": {},
   "outputs": [
    {
     "name": "stdout",
     "output_type": "stream",
     "text": [
      "Desired error not necessarily achieved due to precision loss.\n",
      "Desired error not necessarily achieved due to precision loss.\n",
      "Optimization terminated successfully.\n"
     ]
    }
   ],
   "source": [
    "class MLE():\n",
    "    \"\"\"\n",
    "    Maximum Likelihood Estimation\n",
    "    \"\"\"\n",
    "    def __init__(self, model, x0, sigma):\n",
    "        \"\"\"    \n",
    "        model: model class (object)\n",
    "        x0: initial parameter values (array-like)\n",
    "        sigma: initial sigma value (scaler)\n",
    "        \"\"\"\n",
    "        self.model = model\n",
    "        self.x0 = np.append(np.array(x0), sigma)  # estimate parameters\n",
    "\n",
    "    def logL(self, x):\n",
    "        xv = x * self.x0\n",
    "        *xv, sigma = xv\n",
    "        Hx = self.model.estimate(xv)\n",
    "        y = self.model.data\n",
    "        d = y - Hx\n",
    "        n = d.shape[0]\n",
    "        return -0.5*n * np.log(2*np.pi*sigma*sigma) -0.5/sigma/sigma * np.sum(d*d)\n",
    "    \n",
    "    def deviance(self, x):\n",
    "        return -2 * self.logL(x)\n",
    "    \n",
    "    def optimize(self, disp=False):\n",
    "        x0 = np.ones_like(self.x0)\n",
    "        res = optimize.minimize(self.deviance, x0, method='BFGS', options={'disp':disp, 'maxiter':10000})\n",
    "        res.x_scaled = res.x * self.x0\n",
    "        res.se_scaled = np.sqrt(np.diag(res.hess_inv)) * np.abs(self.x0)\n",
    "        return res\n",
    "\n",
    "    def AIC(self, x):\n",
    "        D = self.deviance(x)\n",
    "        return D + 2*len(x)\n",
    "\n",
    "\n",
    "def main(model, x0, sigma, plot=False, fout=None):\n",
    "    \"\"\"\n",
    "    Main function\n",
    "    Return: dict\n",
    "    \"\"\"\n",
    "    mle = MLE(model, x0=x0, sigma=sigma)\n",
    "    \n",
    "    # optimize\n",
    "    res = mle.optimize(disp=False)\n",
    "    *x_opt, sigma_opt = res.x_scaled\n",
    "    #print(res.x_scaled, res.message)\n",
    "    print(res.message)\n",
    "    \n",
    "    # output\n",
    "    x = res.x_scaled\n",
    "    se = res.se_scaled\n",
    "    out = {'k':len(res.x)}\n",
    "    for i, pname in enumerate(model.pname):\n",
    "        out[pname] = x[i]\n",
    "        out[pname+'_se'] = se[i]\n",
    "    out['sigma'] = x[-1]\n",
    "    out['sigma_se'] = se[-1]\n",
    "    out.update({\n",
    "        'logL':mle.logL(res.x), \n",
    "        'deviance':mle.deviance(res.x), \n",
    "        'AIC':mle.AIC(res.x)\n",
    "    })\n",
    "    return out, x, se, res.message\n",
    "\n",
    "\n",
    "def run_iter(model, x0, seed=0):\n",
    "    np.random.seed(seed)\n",
    "    out, xopt, se, m = main(model, x0=x0, sigma=sigma_obs)\n",
    "    \n",
    "    for i in range(1,10):\n",
    "        if m == 'Optimization terminated successfully.' and i>1:\n",
    "            return out\n",
    "        x, xse = xopt[:-1]*(1/i), se[:-1]*(1/i)\n",
    "        s, sse = xopt[-1]*(1/i), se[-1]*(1/i)\n",
    "        out, xopt, se, m = main(model, x0=np.random.normal(x, xse), sigma=np.random.normal(s, sse))\n",
    "\n",
    "\n",
    "# test\n",
    "x0 = [10., 0.1, -0.001, 10.]\n",
    "GPPopt = run_iter(GPP2, x0, seed=0)"
   ]
  },
  {
   "cell_type": "markdown",
   "metadata": {},
   "source": [
    "# Estimate GPP"
   ]
  },
  {
   "cell_type": "code",
   "execution_count": 31,
   "metadata": {},
   "outputs": [
    {
     "name": "stdout",
     "output_type": "stream",
     "text": [
      "Optimization terminated successfully.\n",
      "Desired error not necessarily achieved due to precision loss.\n",
      "Optimization terminated successfully.\n"
     ]
    },
    {
     "data": {
      "text/plain": [
       "[<matplotlib.lines.Line2D at 0x7f544a5b9b50>]"
      ]
     },
     "execution_count": 31,
     "metadata": {},
     "output_type": "execute_result"
    },
    {
     "data": {
      "image/png": "[encoded data removed]",
      "text/plain": [
       "<Figure size 432x288 with 1 Axes>"
      ]
     },
     "metadata": {
      "needs_background": "light"
     },
     "output_type": "display_data"
    }
   ],
   "source": [
    "GPPopt = run_iter(GPP2, x0, seed=0)\n",
    "\n",
    "est = GPP2.estimate([GPPopt[vname] for vname in 'R20 E a b'.split()])\n",
    "ax = df.assign(GPPest=GPPest0).plot.scatter(x='GPP', y='GPPest', c='lightgrey')\n",
    "ax = df.assign(GPPest=est).plot.scatter(x='GPP', y='GPPest', c='k', ax=ax)\n",
    "ax.legend(['First guess', 'MLE'])\n",
    "ax.plot([0,30],[0,30], lw=0.5, c='k')"
   ]
  },
  {
   "cell_type": "markdown",
   "metadata": {},
   "source": [
    "# Estimate ER"
   ]
  },
  {
   "cell_type": "code",
   "execution_count": 30,
   "metadata": {},
   "outputs": [
    {
     "name": "stdout",
     "output_type": "stream",
     "text": [
      "Desired error not necessarily achieved due to precision loss.\n",
      "Optimization terminated successfully.\n"
     ]
    },
    {
     "data": {
      "text/plain": [
       "[<matplotlib.lines.Line2D at 0x7f544a5d0ad0>]"
      ]
     },
     "execution_count": 30,
     "metadata": {},
     "output_type": "execute_result"
    },
    {
     "data": {
      "image/png": "[encoded data removed]",
      "text/plain": [
       "<Figure size 432x288 with 1 Axes>"
      ]
     },
     "metadata": {
      "needs_background": "light"
     },
     "output_type": "display_data"
    }
   ],
   "source": [
    "ERopt = run_iter(ER2, x0, seed=0)\n",
    "\n",
    "est = ER2.estimate([ERopt[vname] for vname in 'R20 E a b'.split()])\n",
    "ax = df.assign(ERest=ERest0).plot.scatter(x='ER', y='ERest', c='lightgrey')\n",
    "ax = df.assign(ERest=est).plot.scatter(x='ER', y='ERest', c='k', ax=ax)\n",
    "ax.legend(['First guess', 'MLE'])\n",
    "ax.plot([0,30],[0,30], lw=0.5, c='k')"
   ]
  },
  {
   "cell_type": "markdown",
   "metadata": {},
   "source": [
    "# Export CSV file"
   ]
  },
  {
   "cell_type": "code",
   "execution_count": 60,
   "metadata": {},
   "outputs": [],
   "source": [
    "f = 'MLE.csv'\n",
    "\n",
    "raw = pd.DataFrame([GPPopt, ERopt], index='GPP ER'.split())\n",
    "raw = raw[GPPopt.keys()]\n",
    "raw.to_csv(f'raw_{f}')\n",
    "\n",
    "with open(f, 'w', encoding='utf-8') as f:\n",
    "    f.write(' , k, b0, E, a, b, sigma, logL, Deviance, AIC\\n')\n",
    "    for i, row in raw.iterrows():\n",
    "        f.write('{}, {:.0f}, {:.2f}±{:.2f}, {:.3f}±{:.3f}, {:.4f}±{:.4f}, {:.3f}±{:.3f}, {:.2f}±{:.2f}, {:.1f}, {:.1f}, {:.1f}\\n'.format(i, *row))"
   ]
  }
 ],
 "metadata": {
  "kernelspec": {
   "display_name": "Python 3 (ipykernel)",
   "language": "python",
   "name": "python3"
  },
  "language_info": {
   "codemirror_mode": {
    "name": "ipython",
    "version": 3
   },
   "file_extension": ".py",
   "mimetype": "text/x-python",
   "name": "python",
   "nbconvert_exporter": "python",
   "pygments_lexer": "ipython3",
   "version": "3.7.7"
  }
 },
 "nbformat": 4,
 "nbformat_minor": 4
}
